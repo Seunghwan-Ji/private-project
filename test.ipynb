{
 "cells": [
  {
   "cell_type": "code",
   "execution_count": null,
   "metadata": {},
   "outputs": [],
   "source": [
    "backgroundTile = \"⚫\"\n",
    "silhouetteTile = \"⚪\"\n",
    "blocks = [\n",
    "    [[\"🤖\", \"🤖\"], # 정사각형 블록\n",
    "     [\"🤖\", \"🤖\"]],\n",
    "    \n",
    "    [[\"🛸\", \"🛸\", \"🛸\", \"🛸\"]], # 일자 블록\n",
    "    \n",
    "    [[\"👽\", \"👽\", \"⚫\"], # Z블록\n",
    "     [\"⚫\", \"👽\", \"👽\"]],\n",
    "    \n",
    "    [[\"⚫\", \"👾\", \"👾\"], # Z블록 반전\n",
    "     [\"👾\", \"👾\", \"⚫\"]],\n",
    "    \n",
    "    [[\"🤔\", \"⚫\", \"⚫\"], # ㄴ자 블록\n",
    "     [\"🤔\", \"🤔\", \"🤔\"]],\n",
    "    \n",
    "    [[\"⚫\", \"⚫\", \"🔫\"], # ㄴ자 블록 반전\n",
    "     [\"🔫\", \"🔫\", \"🔫\"]],\n",
    "\n",
    "    [[\"⚫\", \"👻\", \"⚫\"], # ㅗ자 블록\n",
    "     [\"👻\", \"👻\", \"👻\"]]\n",
    "    ]"
   ]
  }
 ],
 "metadata": {
  "kernelspec": {
   "display_name": "Python 3",
   "language": "python",
   "name": "python3"
  },
  "language_info": {
   "codemirror_mode": {
    "name": "ipython",
    "version": 3
   },
   "file_extension": ".py",
   "mimetype": "text/x-python",
   "name": "python",
   "nbconvert_exporter": "python",
   "pygments_lexer": "ipython3",
   "version": "3.12.2"
  }
 },
 "nbformat": 4,
 "nbformat_minor": 2
}
